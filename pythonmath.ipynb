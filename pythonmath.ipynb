{
 "cells": [
  {
   "cell_type": "code",
   "execution_count": 3,
   "id": "86b28351",
   "metadata": {},
   "outputs": [],
   "source": [
    "#Para crear celdas nuevas se utiliza shif + enter, para ejecutarlas alt + enter"
   ]
  },
  {
   "cell_type": "code",
   "execution_count": 4,
   "id": "f3c37a48",
   "metadata": {},
   "outputs": [],
   "source": [
    "# CONSTANTES"
   ]
  },
  {
   "cell_type": "code",
   "execution_count": 9,
   "id": "f01a6fe7",
   "metadata": {
    "scrolled": true
   },
   "outputs": [],
   "source": [
    "import math"
   ]
  },
  {
   "cell_type": "code",
   "execution_count": 10,
   "id": "bb4628cc",
   "metadata": {},
   "outputs": [
    {
     "data": {
      "text/plain": [
       "3.141592653589793"
      ]
     },
     "execution_count": 10,
     "metadata": {},
     "output_type": "execute_result"
    }
   ],
   "source": [
    "math.pi"
   ]
  },
  {
   "cell_type": "code",
   "execution_count": 11,
   "id": "08bb06cb",
   "metadata": {},
   "outputs": [
    {
     "data": {
      "text/plain": [
       "2.718281828459045"
      ]
     },
     "execution_count": 11,
     "metadata": {},
     "output_type": "execute_result"
    }
   ],
   "source": [
    "math.e"
   ]
  },
  {
   "cell_type": "code",
   "execution_count": 12,
   "id": "60a694dc",
   "metadata": {},
   "outputs": [
    {
     "data": {
      "text/plain": [
       "6.283185307179586"
      ]
     },
     "execution_count": 12,
     "metadata": {},
     "output_type": "execute_result"
    }
   ],
   "source": [
    "math.tau"
   ]
  },
  {
   "cell_type": "code",
   "execution_count": 13,
   "id": "a3546430",
   "metadata": {},
   "outputs": [
    {
     "data": {
      "text/plain": [
       "6.283185307179586"
      ]
     },
     "execution_count": 13,
     "metadata": {},
     "output_type": "execute_result"
    }
   ],
   "source": [
    "2*math.pi"
   ]
  },
  {
   "cell_type": "code",
   "execution_count": 16,
   "id": "6e6d982a",
   "metadata": {},
   "outputs": [
    {
     "data": {
      "text/plain": [
       "6.283185307179586"
      ]
     },
     "execution_count": 16,
     "metadata": {},
     "output_type": "execute_result"
    }
   ],
   "source": [
    "#variable igual que en R\n",
    "tau = 2 * math.pi\n",
    "tau"
   ]
  },
  {
   "cell_type": "code",
   "execution_count": 17,
   "id": "87a6b04c",
   "metadata": {},
   "outputs": [
    {
     "data": {
      "text/plain": [
       "-inf"
      ]
     },
     "execution_count": 17,
     "metadata": {},
     "output_type": "execute_result"
    }
   ],
   "source": [
    "-math.inf"
   ]
  },
  {
   "cell_type": "code",
   "execution_count": 18,
   "id": "ae2c5d93",
   "metadata": {},
   "outputs": [
    {
     "data": {
      "text/plain": [
       "inf"
      ]
     },
     "execution_count": 18,
     "metadata": {},
     "output_type": "execute_result"
    }
   ],
   "source": [
    "math.inf"
   ]
  },
  {
   "cell_type": "code",
   "execution_count": 19,
   "id": "f1bd8b18",
   "metadata": {},
   "outputs": [
    {
     "data": {
      "text/plain": [
       "inf"
      ]
     },
     "execution_count": 19,
     "metadata": {},
     "output_type": "execute_result"
    }
   ],
   "source": [
    "float(\"inf\")"
   ]
  },
  {
   "cell_type": "code",
   "execution_count": 20,
   "id": "5eca0e7e",
   "metadata": {},
   "outputs": [
    {
     "data": {
      "text/plain": [
       "nan"
      ]
     },
     "execution_count": 20,
     "metadata": {},
     "output_type": "execute_result"
    }
   ],
   "source": [
    "math.nan"
   ]
  },
  {
   "cell_type": "code",
   "execution_count": 21,
   "id": "819f4c26",
   "metadata": {},
   "outputs": [
    {
     "data": {
      "text/plain": [
       "nan"
      ]
     },
     "execution_count": 21,
     "metadata": {},
     "output_type": "execute_result"
    }
   ],
   "source": [
    "float(\"nan\")"
   ]
  },
  {
   "cell_type": "code",
   "execution_count": 23,
   "id": "e45e3fe2",
   "metadata": {},
   "outputs": [
    {
     "ename": "ValueError",
     "evalue": "math domain error",
     "output_type": "error",
     "traceback": [
      "\u001b[1;31m---------------------------------------------------------------------------\u001b[0m",
      "\u001b[1;31mValueError\u001b[0m                                Traceback (most recent call last)",
      "Cell \u001b[1;32mIn[23], line 1\u001b[0m\n\u001b[1;32m----> 1\u001b[0m math\u001b[38;5;241m.\u001b[39msqrt(\u001b[38;5;241m-\u001b[39m\u001b[38;5;241m1\u001b[39m)\n",
      "\u001b[1;31mValueError\u001b[0m: math domain error"
     ]
    }
   ],
   "source": [
    "math.sqrt(-1) #indica la causa subyacente de por qué no se puede hacer"
   ]
  },
  {
   "cell_type": "code",
   "execution_count": 24,
   "id": "0ddb6e99",
   "metadata": {},
   "outputs": [
    {
     "ename": "ValueError",
     "evalue": "math domain error",
     "output_type": "error",
     "traceback": [
      "\u001b[1;31m---------------------------------------------------------------------------\u001b[0m",
      "\u001b[1;31mValueError\u001b[0m                                Traceback (most recent call last)",
      "Cell \u001b[1;32mIn[24], line 1\u001b[0m\n\u001b[1;32m----> 1\u001b[0m math\u001b[38;5;241m.\u001b[39mlog(\u001b[38;5;241m0.0\u001b[39m)\n",
      "\u001b[1;31mValueError\u001b[0m: math domain error"
     ]
    }
   ],
   "source": [
    "math.log(0.0)"
   ]
  },
  {
   "cell_type": "code",
   "execution_count": 25,
   "id": "3b00df84",
   "metadata": {},
   "outputs": [
    {
     "ename": "OverflowError",
     "evalue": "math range error",
     "output_type": "error",
     "traceback": [
      "\u001b[1;31m---------------------------------------------------------------------------\u001b[0m",
      "\u001b[1;31mOverflowError\u001b[0m                             Traceback (most recent call last)",
      "Cell \u001b[1;32mIn[25], line 1\u001b[0m\n\u001b[1;32m----> 1\u001b[0m math\u001b[38;5;241m.\u001b[39mexp(\u001b[38;5;241m1000.0\u001b[39m)\n",
      "\u001b[1;31mOverflowError\u001b[0m: math range error"
     ]
    }
   ],
   "source": [
    "math.exp(1000.0)"
   ]
  },
  {
   "cell_type": "code",
   "execution_count": 26,
   "id": "7f66f4c7",
   "metadata": {},
   "outputs": [
    {
     "data": {
      "text/plain": [
       "1.0"
      ]
     },
     "execution_count": 26,
     "metadata": {},
     "output_type": "execute_result"
    }
   ],
   "source": [
    "math.pow(math.nan, 0)\n",
    "#Aquí el nan está pensado para que pueda operar correctamente, cualquier cosa, incluido nan, elevado a cero es 1."
   ]
  },
  {
   "cell_type": "code",
   "execution_count": 27,
   "id": "6c7e5a70",
   "metadata": {},
   "outputs": [
    {
     "data": {
      "text/plain": [
       "nan"
      ]
     },
     "execution_count": 27,
     "metadata": {},
     "output_type": "execute_result"
    }
   ],
   "source": [
    "math.nan + 5"
   ]
  },
  {
   "cell_type": "code",
   "execution_count": 28,
   "id": "87f92640",
   "metadata": {},
   "outputs": [
    {
     "data": {
      "text/plain": [
       "inf"
      ]
     },
     "execution_count": 28,
     "metadata": {},
     "output_type": "execute_result"
    }
   ],
   "source": [
    "math.hypot(math.nan, math.inf)"
   ]
  },
  {
   "cell_type": "code",
   "execution_count": 29,
   "id": "ff627281",
   "metadata": {},
   "outputs": [],
   "source": [
    "# REPRESENTACIÓN NÚMERICA"
   ]
  },
  {
   "cell_type": "code",
   "execution_count": 30,
   "id": "a027a207",
   "metadata": {},
   "outputs": [
    {
     "data": {
      "text/plain": [
       "4"
      ]
     },
     "execution_count": 30,
     "metadata": {},
     "output_type": "execute_result"
    }
   ],
   "source": [
    "2+2"
   ]
  },
  {
   "cell_type": "code",
   "execution_count": 31,
   "id": "2d332532",
   "metadata": {},
   "outputs": [
    {
     "data": {
      "text/plain": [
       "0"
      ]
     },
     "execution_count": 31,
     "metadata": {},
     "output_type": "execute_result"
    }
   ],
   "source": [
    "2-2"
   ]
  },
  {
   "cell_type": "code",
   "execution_count": 32,
   "id": "782c2d7c",
   "metadata": {},
   "outputs": [
    {
     "data": {
      "text/plain": [
       "12"
      ]
     },
     "execution_count": 32,
     "metadata": {},
     "output_type": "execute_result"
    }
   ],
   "source": [
    "3*4"
   ]
  },
  {
   "cell_type": "code",
   "execution_count": 33,
   "id": "aa958486",
   "metadata": {},
   "outputs": [
    {
     "data": {
      "text/plain": [
       "5.0"
      ]
     },
     "execution_count": 33,
     "metadata": {},
     "output_type": "execute_result"
    }
   ],
   "source": [
    "15/3"
   ]
  },
  {
   "cell_type": "code",
   "execution_count": 34,
   "id": "551f4713",
   "metadata": {},
   "outputs": [
    {
     "data": {
      "text/plain": [
       "4"
      ]
     },
     "execution_count": 34,
     "metadata": {},
     "output_type": "execute_result"
    }
   ],
   "source": [
    "#redondeo a la alza\n",
    "math.ceil(3.4535)"
   ]
  },
  {
   "cell_type": "code",
   "execution_count": 35,
   "id": "d3454e3f",
   "metadata": {},
   "outputs": [
    {
     "data": {
      "text/plain": [
       "3"
      ]
     },
     "execution_count": 35,
     "metadata": {},
     "output_type": "execute_result"
    }
   ],
   "source": [
    "#redondeo a la baja\n",
    "math.floor(3.4535)"
   ]
  },
  {
   "cell_type": "code",
   "execution_count": 41,
   "id": "67b3c3cb",
   "metadata": {},
   "outputs": [
    {
     "data": {
      "text/plain": [
       "3"
      ]
     },
     "execution_count": 41,
     "metadata": {},
     "output_type": "execute_result"
    }
   ],
   "source": [
    "#se trunca del valor real a valor entero, quita los decimales\n",
    "math.trunc(3.4535)"
   ]
  },
  {
   "cell_type": "code",
   "execution_count": 36,
   "id": "04b5c577",
   "metadata": {},
   "outputs": [
    {
     "data": {
      "text/plain": [
       "-3.0"
      ]
     },
     "execution_count": 36,
     "metadata": {},
     "output_type": "execute_result"
    }
   ],
   "source": [
    "math.copysign(3, -2)"
   ]
  },
  {
   "cell_type": "code",
   "execution_count": 38,
   "id": "f2367ba5",
   "metadata": {},
   "outputs": [
    {
     "data": {
      "text/plain": [
       "-3.0"
      ]
     },
     "execution_count": 38,
     "metadata": {},
     "output_type": "execute_result"
    }
   ],
   "source": [
    "math.copysign(3, -0.0)"
   ]
  },
  {
   "cell_type": "code",
   "execution_count": 39,
   "id": "2f55e803",
   "metadata": {},
   "outputs": [
    {
     "data": {
      "text/plain": [
       "5.0"
      ]
     },
     "execution_count": 39,
     "metadata": {},
     "output_type": "execute_result"
    }
   ],
   "source": [
    "math.fabs(5)"
   ]
  },
  {
   "cell_type": "code",
   "execution_count": 40,
   "id": "08939465",
   "metadata": {},
   "outputs": [
    {
     "data": {
      "text/plain": [
       "5.0"
      ]
     },
     "execution_count": 40,
     "metadata": {},
     "output_type": "execute_result"
    }
   ],
   "source": [
    "math.fabs(-5)"
   ]
  },
  {
   "cell_type": "code",
   "execution_count": 43,
   "id": "83ff1239",
   "metadata": {},
   "outputs": [
    {
     "data": {
      "text/plain": [
       "32"
      ]
     },
     "execution_count": 43,
     "metadata": {},
     "output_type": "execute_result"
    }
   ],
   "source": [
    "2**5"
   ]
  },
  {
   "cell_type": "code",
   "execution_count": 44,
   "id": "181d9f0f",
   "metadata": {},
   "outputs": [
    {
     "data": {
      "text/plain": [
       "24"
      ]
     },
     "execution_count": 44,
     "metadata": {},
     "output_type": "execute_result"
    }
   ],
   "source": [
    "math.factorial(4)"
   ]
  },
  {
   "cell_type": "code",
   "execution_count": 45,
   "id": "2d875765",
   "metadata": {},
   "outputs": [
    {
     "data": {
      "text/plain": [
       "10.0"
      ]
     },
     "execution_count": 45,
     "metadata": {},
     "output_type": "execute_result"
    }
   ],
   "source": [
    "x = 5\n",
    "y = 2\n",
    "\n",
    "math.factorial(x) / (math.factorial(y) * math.factorial(x-y))"
   ]
  },
  {
   "cell_type": "code",
   "execution_count": 46,
   "id": "88519582",
   "metadata": {},
   "outputs": [
    {
     "data": {
      "text/plain": [
       "1.0"
      ]
     },
     "execution_count": 46,
     "metadata": {},
     "output_type": "execute_result"
    }
   ],
   "source": [
    "#resto de la división\n",
    "math.fmod(7, 3)"
   ]
  },
  {
   "cell_type": "code",
   "execution_count": 49,
   "id": "412d3852",
   "metadata": {},
   "outputs": [
    {
     "data": {
      "text/plain": [
       "1"
      ]
     },
     "execution_count": 49,
     "metadata": {},
     "output_type": "execute_result"
    }
   ],
   "source": [
    "7%3"
   ]
  },
  {
   "cell_type": "code",
   "execution_count": 54,
   "id": "bb2571e2",
   "metadata": {},
   "outputs": [
    {
     "data": {
      "text/plain": [
       "1.0"
      ]
     },
     "execution_count": 54,
     "metadata": {},
     "output_type": "execute_result"
    }
   ],
   "source": [
    "math.remainder(7,3)"
   ]
  },
  {
   "cell_type": "code",
   "execution_count": 55,
   "id": "0678c843",
   "metadata": {},
   "outputs": [
    {
     "data": {
      "text/plain": [
       "2"
      ]
     },
     "execution_count": 55,
     "metadata": {},
     "output_type": "execute_result"
    }
   ],
   "source": [
    "#cociente de la división entera\n",
    "7//3"
   ]
  },
  {
   "cell_type": "code",
   "execution_count": 56,
   "id": "dcd1de17",
   "metadata": {},
   "outputs": [
    {
     "data": {
      "text/plain": [
       "(0.25, 4.0)"
      ]
     },
     "execution_count": 56,
     "metadata": {},
     "output_type": "execute_result"
    }
   ],
   "source": [
    "#separa la parte fraccional de la entera\n",
    "math.modf(4.25)"
   ]
  },
  {
   "cell_type": "code",
   "execution_count": 57,
   "id": "4f9878d7",
   "metadata": {},
   "outputs": [
    {
     "data": {
      "text/plain": [
       "12"
      ]
     },
     "execution_count": 57,
     "metadata": {},
     "output_type": "execute_result"
    }
   ],
   "source": [
    "#máximo común divisor\n",
    "math.gcd(24, 36)"
   ]
  },
  {
   "cell_type": "code",
   "execution_count": 58,
   "id": "76ce9ccd",
   "metadata": {},
   "outputs": [
    {
     "data": {
      "text/plain": [
       "True"
      ]
     },
     "execution_count": 58,
     "metadata": {},
     "output_type": "execute_result"
    }
   ],
   "source": [
    "#saber si un número es finito\n",
    "math.isfinite(2.5)"
   ]
  },
  {
   "cell_type": "code",
   "execution_count": 59,
   "id": "bb9fac41",
   "metadata": {},
   "outputs": [
    {
     "data": {
      "text/plain": [
       "False"
      ]
     },
     "execution_count": 59,
     "metadata": {},
     "output_type": "execute_result"
    }
   ],
   "source": [
    "#saber si es infinito\n",
    "math.isinf(2.5)"
   ]
  },
  {
   "cell_type": "code",
   "execution_count": 60,
   "id": "ac584e04",
   "metadata": {},
   "outputs": [
    {
     "data": {
      "text/plain": [
       "False"
      ]
     },
     "execution_count": 60,
     "metadata": {},
     "output_type": "execute_result"
    }
   ],
   "source": [
    "#para saber si es nan\n",
    "math.isnan(2.5)"
   ]
  },
  {
   "cell_type": "code",
   "execution_count": 61,
   "id": "89844333",
   "metadata": {},
   "outputs": [
    {
     "data": {
      "text/plain": [
       "True"
      ]
     },
     "execution_count": 61,
     "metadata": {},
     "output_type": "execute_result"
    }
   ],
   "source": [
    "#saber si dos numeros son iguales o cuanto igual quieres que sea ya que tiene parámetros\n",
    "math.isclose(math.sqrt(2)**2, 2)"
   ]
  },
  {
   "cell_type": "code",
   "execution_count": null,
   "id": "b62510c2",
   "metadata": {},
   "outputs": [],
   "source": []
  }
 ],
 "metadata": {
  "kernelspec": {
   "display_name": "Python 3 (ipykernel)",
   "language": "python",
   "name": "python3"
  },
  "language_info": {
   "codemirror_mode": {
    "name": "ipython",
    "version": 3
   },
   "file_extension": ".py",
   "mimetype": "text/x-python",
   "name": "python",
   "nbconvert_exporter": "python",
   "pygments_lexer": "ipython3",
   "version": "3.11.5"
  }
 },
 "nbformat": 4,
 "nbformat_minor": 5
}
