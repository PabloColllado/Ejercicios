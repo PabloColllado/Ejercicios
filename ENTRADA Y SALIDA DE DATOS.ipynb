{
 "cells": [
  {
   "cell_type": "code",
   "execution_count": 1,
   "id": "c79a6c1d",
   "metadata": {},
   "outputs": [
    {
     "name": "stdout",
     "output_type": "stream",
     "text": [
      "hola mundo\n"
     ]
    }
   ],
   "source": [
    "print(\"hola mundo\")"
   ]
  },
  {
   "cell_type": "code",
   "execution_count": 2,
   "id": "d1769f1f",
   "metadata": {},
   "outputs": [
    {
     "name": "stdout",
     "output_type": "stream",
     "text": [
      "5\n"
     ]
    }
   ],
   "source": [
    "x = 5\n",
    "print(x)"
   ]
  },
  {
   "cell_type": "code",
   "execution_count": 5,
   "id": "fde5367f",
   "metadata": {},
   "outputs": [
    {
     "name": "stdout",
     "output_type": "stream",
     "text": [
      "El valor de la variable x es: 5\n"
     ]
    }
   ],
   "source": [
    "print(\"El valor de la variable x es: \" + str(x))"
   ]
  },
  {
   "cell_type": "code",
   "execution_count": 8,
   "id": "9ad3db7e",
   "metadata": {},
   "outputs": [
    {
     "name": "stdout",
     "output_type": "stream",
     "text": [
      "introduce tu nombre: Pablo\n"
     ]
    }
   ],
   "source": [
    "texto = input(\"introduce tu nombre: \")"
   ]
  },
  {
   "cell_type": "code",
   "execution_count": 7,
   "id": "781b7dda",
   "metadata": {},
   "outputs": [
    {
     "data": {
      "text/plain": [
       "'Pablo'"
      ]
     },
     "execution_count": 7,
     "metadata": {},
     "output_type": "execute_result"
    }
   ],
   "source": [
    "texto"
   ]
  },
  {
   "cell_type": "code",
   "execution_count": 9,
   "id": "066995bf",
   "metadata": {},
   "outputs": [
    {
     "name": "stdout",
     "output_type": "stream",
     "text": [
      "introduce tu edad: 25\n"
     ]
    }
   ],
   "source": [
    "numero = int(input(\"introduce tu edad: \"))"
   ]
  },
  {
   "cell_type": "code",
   "execution_count": 10,
   "id": "59bcdf3a",
   "metadata": {},
   "outputs": [
    {
     "data": {
      "text/plain": [
       "25"
      ]
     },
     "execution_count": 10,
     "metadata": {},
     "output_type": "execute_result"
    }
   ],
   "source": [
    "numero"
   ]
  },
  {
   "cell_type": "code",
   "execution_count": 11,
   "id": "c60e1307",
   "metadata": {},
   "outputs": [
    {
     "data": {
      "text/plain": [
       "55"
      ]
     },
     "execution_count": 11,
     "metadata": {},
     "output_type": "execute_result"
    }
   ],
   "source": [
    "2*numero+5"
   ]
  },
  {
   "cell_type": "code",
   "execution_count": 12,
   "id": "ba6e411a",
   "metadata": {},
   "outputs": [],
   "source": [
    "x = \"j\""
   ]
  },
  {
   "cell_type": "code",
   "execution_count": 13,
   "id": "298595ff",
   "metadata": {},
   "outputs": [
    {
     "name": "stdout",
     "output_type": "stream",
     "text": [
      "j\n"
     ]
    }
   ],
   "source": [
    "print(x)"
   ]
  },
  {
   "cell_type": "code",
   "execution_count": 14,
   "id": "c036e733",
   "metadata": {},
   "outputs": [
    {
     "name": "stdout",
     "output_type": "stream",
     "text": [
      "3.4567\n"
     ]
    }
   ],
   "source": [
    "x = 3.4567\n",
    "print(x)"
   ]
  },
  {
   "cell_type": "code",
   "execution_count": 16,
   "id": "5f2b3bc6",
   "metadata": {},
   "outputs": [
    {
     "name": "stdout",
     "output_type": "stream",
     "text": [
      "True\n"
     ]
    }
   ],
   "source": [
    "x = True\n",
    "print(x)"
   ]
  },
  {
   "cell_type": "code",
   "execution_count": 19,
   "id": "f91a9067",
   "metadata": {},
   "outputs": [
    {
     "name": "stdout",
     "output_type": "stream",
     "text": [
      "la variable x se trata de un caracter: h\n"
     ]
    }
   ],
   "source": [
    "x=\"h\"\n",
    "print(\"la variable x se trata de un caracter: \"+ x)"
   ]
  },
  {
   "cell_type": "code",
   "execution_count": 20,
   "id": "e10ee62d",
   "metadata": {},
   "outputs": [
    {
     "name": "stdout",
     "output_type": "stream",
     "text": [
      "la variable x es entera: 5\n"
     ]
    }
   ],
   "source": [
    "x = 5\n",
    "print(\"la variable x es entera: \"+ str(x))"
   ]
  },
  {
   "cell_type": "code",
   "execution_count": null,
   "id": "9f143377",
   "metadata": {},
   "outputs": [],
   "source": []
  },
  {
   "cell_type": "code",
   "execution_count": null,
   "id": "3fafda8e",
   "metadata": {},
   "outputs": [],
   "source": [
    "# OPERADORES DE DECISIÓN"
   ]
  },
  {
   "cell_type": "code",
   "execution_count": null,
   "id": "9ec8a2db",
   "metadata": {},
   "outputs": [],
   "source": [
    "#El bloque de codigo en python se suele organizar con el tabulador a diferencia de R, de modo que si se quiere ejecutar alguna condición para nque se ejecute la instrucción hay que ingresar un tabulador."
   ]
  },
  {
   "cell_type": "code",
   "execution_count": 21,
   "id": "c4561233",
   "metadata": {},
   "outputs": [
    {
     "name": "stdout",
     "output_type": "stream",
     "text": [
      "Escribe un número:5\n"
     ]
    }
   ],
   "source": [
    "x = int(input(\"Escribe un número:\"))"
   ]
  },
  {
   "cell_type": "code",
   "execution_count": 22,
   "id": "ce5ecde7",
   "metadata": {},
   "outputs": [
    {
     "name": "stdout",
     "output_type": "stream",
     "text": [
      "has escrito el número 5\n"
     ]
    }
   ],
   "source": [
    "if x == 5:\n",
    "    print(\"has escrito el número 5\")\n",
    "    "
   ]
  },
  {
   "cell_type": "code",
   "execution_count": 26,
   "id": "2c920fe6",
   "metadata": {},
   "outputs": [
    {
     "name": "stdout",
     "output_type": "stream",
     "text": [
      "Escribe un número:3\n",
      "has escrito un número menor que 5\n"
     ]
    }
   ],
   "source": [
    "x = int(input(\"Escribe un número:\"))\n",
    "if x < 5:\n",
    "    print(\"has escrito un número menor que 5\")\n",
    "elif x < 10:\n",
    "    print(\"has escrito un numero menor que 10 y mayor o igual que 5\")\n",
    "else:\n",
    "    print(\"has escrito un número mayor o igual que 10\")"
   ]
  },
  {
   "cell_type": "code",
   "execution_count": 29,
   "id": "3bc67722",
   "metadata": {},
   "outputs": [
    {
     "name": "stdout",
     "output_type": "stream",
     "text": [
      "Escribe un número:6\n",
      "has escrito un número en el rango 0-10\n"
     ]
    }
   ],
   "source": [
    "x = int(input(\"Escribe un número:\"))\n",
    "if x>0 and x<10:\n",
    "    print(\"has escrito un número en el rango 0-10\")"
   ]
  },
  {
   "cell_type": "code",
   "execution_count": 34,
   "id": "ca4dfda8",
   "metadata": {},
   "outputs": [
    {
     "name": "stdout",
     "output_type": "stream",
     "text": [
      "Escribe un número:45\n",
      "Tu número no se encuentra en el rango 0-10\n"
     ]
    }
   ],
   "source": [
    "x = int(input(\"Escribe un número:\"))\n",
    "if x < 0 or x > 10:\n",
    "    print(\"Tu número no se encuentra en el rango 0-10\")"
   ]
  },
  {
   "cell_type": "code",
   "execution_count": 1,
   "id": "43e7f118",
   "metadata": {},
   "outputs": [
    {
     "name": "stdout",
     "output_type": "stream",
     "text": [
      "Escribe un número:55\n",
      "Tu número no se encuentra en el rango 0-10\n"
     ]
    }
   ],
   "source": [
    "x = int(input(\"Escribe un número:\"))\n",
    "if x>0 and x<15:\n",
    "    print(\"has escrito un número en el rango 0-10\")\n",
    "elif x < 0 or x > 15:\n",
    "    print(\"Tu número no se encuentra en el rango 0-10\")"
   ]
  },
  {
   "cell_type": "code",
   "execution_count": null,
   "id": "94d0e05c",
   "metadata": {},
   "outputs": [],
   "source": []
  },
  {
   "cell_type": "code",
   "execution_count": null,
   "id": "47f8ec02",
   "metadata": {},
   "outputs": [],
   "source": []
  }
 ],
 "metadata": {
  "kernelspec": {
   "display_name": "Python 3 (ipykernel)",
   "language": "python",
   "name": "python3"
  },
  "language_info": {
   "codemirror_mode": {
    "name": "ipython",
    "version": 3
   },
   "file_extension": ".py",
   "mimetype": "text/x-python",
   "name": "python",
   "nbconvert_exporter": "python",
   "pygments_lexer": "ipython3",
   "version": "3.11.5"
  }
 },
 "nbformat": 4,
 "nbformat_minor": 5
}
