{
 "cells": [
  {
   "cell_type": "code",
   "execution_count": 1,
   "id": "25468c87",
   "metadata": {},
   "outputs": [
    {
     "name": "stdout",
     "output_type": "stream",
     "text": [
      "Introduce tu número:3\n",
      "Positivo\n"
     ]
    }
   ],
   "source": [
    "numero_entero = float(input(\"Introduce tu número:\"))\n",
    "if numero_entero > 0:\n",
    "    print(\"Positivo\")\n",
    "elif numero_entero < 0:\n",
    "    print(\"Negativo\")\n",
    "else:\n",
    "    print(\"Nulo\")"
   ]
  },
  {
   "cell_type": "code",
   "execution_count": 2,
   "id": "89aae385",
   "metadata": {},
   "outputs": [
    {
     "name": "stdout",
     "output_type": "stream",
     "text": [
      "Introduce tu número:3\n",
      "Está en el rango\n"
     ]
    }
   ],
   "source": [
    "numero_entero = float(input(\"Introduce tu número:\"))\n",
    "if numero_entero >= -5 and numero_entero <= 5:\n",
    "    print(\"Está en el rango\")\n",
    "elif numero_entero < -5:\n",
    "    print(\"Está en un rango menor\")\n",
    "else:\n",
    "    print(\"Está en un rango mayor\")\n",
    "    "
   ]
  },
  {
   "cell_type": "code",
   "execution_count": 3,
   "id": "63ff98ee",
   "metadata": {},
   "outputs": [
    {
     "name": "stdout",
     "output_type": "stream",
     "text": [
      "Introduce tu coordenadaX3\n",
      "Introduce tu coordenadaY3\n",
      "Está en el segundo cuadrante\n"
     ]
    }
   ],
   "source": [
    "coordenadaX= float(input(\"Introduce tu coordenadaX\"))\n",
    "coordenadaY=float(input(\"Introduce tu coordenadaY\"))\n",
    "if coordenadaX == 0:\n",
    "    print(\"Está en el eje vertical\")\n",
    "elif coordenadaY == 0:\n",
    "    print(\"Está en el eje horizontal\")\n",
    "elif coordenadaX == 0 and coordenadaY == 0:\n",
    "    print(\"Está en el origen del eje\")\n",
    "elif coordenadaX < 0 and coordenadaY < 0:\n",
    "    print(\"Está en el cuarto cuadrante\")\n",
    "elif coordenadaX > 0 and coordenadaY < 0:\n",
    "    print(\"Está en el tercer cuadrante\")\n",
    "elif coordenadaX > 0 and coordenadaY > 0:\n",
    "    print(\"Está en el segundo cuadrante\")\n",
    "elif coordenadaX < 0 and coordenadaY > 0:\n",
    "    print(\"Está en el primer cuadrante\")"
   ]
  },
  {
   "cell_type": "code",
   "execution_count": 4,
   "id": "12eaa854",
   "metadata": {},
   "outputs": [
    {
     "name": "stdout",
     "output_type": "stream",
     "text": [
      "Introduce tu numeroA: 10\n",
      "Introduce tu numeroB: 3\n",
      "División entera: 3.0\n",
      "Resto: 1.0\n"
     ]
    }
   ],
   "source": [
    "numeroA = float(input(\"Introduce tu numeroA: \"))\n",
    "numeroB = float(input(\"Introduce tu numeroB: \"))\n",
    "division_entera = numeroA // numeroB\n",
    "print(\"División entera:\", division_entera)\n",
    "resto = numeroA % numeroB\n",
    "print(\"Resto:\", resto)\n"
   ]
  },
  {
   "cell_type": "code",
   "execution_count": null,
   "id": "29c03f4b",
   "metadata": {},
   "outputs": [],
   "source": []
  }
 ],
 "metadata": {
  "kernelspec": {
   "display_name": "Python 3 (ipykernel)",
   "language": "python",
   "name": "python3"
  },
  "language_info": {
   "codemirror_mode": {
    "name": "ipython",
    "version": 3
   },
   "file_extension": ".py",
   "mimetype": "text/x-python",
   "name": "python",
   "nbconvert_exporter": "python",
   "pygments_lexer": "ipython3",
   "version": "3.11.5"
  }
 },
 "nbformat": 4,
 "nbformat_minor": 5
}
