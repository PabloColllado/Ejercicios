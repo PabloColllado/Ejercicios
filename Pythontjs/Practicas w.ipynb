{
 "cells": [
  {
   "cell_type": "code",
   "execution_count": 1,
   "id": "acaee848",
   "metadata": {},
   "outputs": [
    {
     "name": "stdout",
     "output_type": "stream",
     "text": [
      "Primer número: 7\n",
      "Segundo número: 90\n",
      "Resultado_suma:  97\n"
     ]
    }
   ],
   "source": [
    "#Ejercicio 1\n",
    "numero_entero1 = int(input(\"Primer número: \"))\n",
    "numero_entero2 = int(input(\"Segundo número: \"))\n",
    "Resultado_producto = numero_entero1 * numero_entero2\n",
    "Resultado_suma = numero_entero1 + numero_entero2\n",
    "if Resultado_producto > 1000:\n",
    "    print(\"Resultado_producto: \", Resultado_producto)\n",
    "else:\n",
    "    print(\"Resultado_suma: \", Resultado_suma)"
   ]
  },
  {
   "cell_type": "code",
   "execution_count": 2,
   "id": "155e1dc8",
   "metadata": {},
   "outputs": [
    {
     "name": "stdout",
     "output_type": "stream",
     "text": [
      "Ingrese el número 1: 6\n",
      "La suma de los dos últimos números es: 6\n",
      "Ingrese el número 2: 7\n",
      "La suma de los dos últimos números es: 13\n",
      "Ingrese el número 3: 8\n",
      "La suma de los dos últimos números es: 15\n",
      "Ingrese el número 4: 4\n",
      "La suma de los dos últimos números es: 12\n",
      "Ingrese el número 5: 3\n",
      "La suma de los dos últimos números es: 7\n",
      "La suma total de los números es: 7\n"
     ]
    }
   ],
   "source": [
    "#Ejercicio 2\n",
    "suma_anteriores = 0\n",
    "ultimo_numero = 0\n",
    "for i in range(5):\n",
    "    numero = int(input(f\"Ingrese el número {i + 1}: \"))\n",
    "    suma_anteriores = ultimo_numero + numero\n",
    "    print(f\"La suma de los dos últimos números es: {suma_anteriores}\")\n",
    "    ultimo_numero = numero \t\n",
    "print(f\"La suma total de los números es: {suma_anteriores}\")\n"
   ]
  },
  {
   "cell_type": "markdown",
   "id": "34da8922",
   "metadata": {},
   "source": [
    "#### "
   ]
  },
  {
   "cell_type": "code",
   "execution_count": 3,
   "id": "1286653f",
   "metadata": {},
   "outputs": [
    {
     "name": "stdout",
     "output_type": "stream",
     "text": [
      "Introduzca una palabra: alcornoque\n",
      "alcornoqueguay\n"
     ]
    }
   ],
   "source": [
    "#Ejercicio 3\n",
    "word = str(input(\"Introduzca una palabra: \"))\n",
    "if word[0] in \"aeiou\":\n",
    "    print(word + \"guay\")\n",
    "else:\n",
    "    print(word + \"ay\")\n",
    "\n"
   ]
  },
  {
   "cell_type": "code",
   "execution_count": 4,
   "id": "d3da3bab",
   "metadata": {},
   "outputs": [
    {
     "name": "stdout",
     "output_type": "stream",
     "text": [
      "Resultado: [32, 15]\n"
     ]
    }
   ],
   "source": [
    "#Ejercicio 4\n",
    "def obtener_extremos(lista):\n",
    "        if len(lista) >= 1:\n",
    "            resultado = [lista[0], lista[-1]]\n",
    "        return resultado\n",
    "numeros = [32, 23, 43, 4, 15]\n",
    "resultado = obtener_extremos(numeros)\n",
    "if resultado:\n",
    "    print(\"Resultado:\", resultado)"
   ]
  },
  {
   "cell_type": "code",
   "execution_count": null,
   "id": "eb230956",
   "metadata": {},
   "outputs": [],
   "source": []
  }
 ],
 "metadata": {
  "kernelspec": {
   "display_name": "Python 3 (ipykernel)",
   "language": "python",
   "name": "python3"
  },
  "language_info": {
   "codemirror_mode": {
    "name": "ipython",
    "version": 3
   },
   "file_extension": ".py",
   "mimetype": "text/x-python",
   "name": "python",
   "nbconvert_exporter": "python",
   "pygments_lexer": "ipython3",
   "version": "3.11.5"
  }
 },
 "nbformat": 4,
 "nbformat_minor": 5
}
