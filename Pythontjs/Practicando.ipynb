{
 "cells": [
  {
   "cell_type": "code",
   "execution_count": 5,
   "id": "87664237",
   "metadata": {},
   "outputs": [],
   "source": [
    "def cosatonta(numero):\n",
    "    if numero%3==0 and numero%5==0:\n",
    "        return \"CosaTonta\"   \n",
    "    elif numero%3==0:\n",
    "        return \"Cosa\"\n",
    "    elif numero%5==0:\n",
    "        return \"Tonta\"\n",
    "    else:\n",
    "        return numero\n"
   ]
  },
  {
   "cell_type": "code",
   "execution_count": 16,
   "id": "a39b61f2",
   "metadata": {},
   "outputs": [],
   "source": [
    "def muestra_numeros(limite):\n",
    "    for numero in range(limite +1):\n",
    "        if numero%2==0:\n",
    "            print(f\"{numero} PAR\")\n",
    "        else:\n",
    "            print(f\"{numero} IMPAR\")\n",
    "        "
   ]
  },
  {
   "cell_type": "code",
   "execution_count": 20,
   "id": "f837d692",
   "metadata": {},
   "outputs": [],
   "source": [
    "def mostrar_estrellas(filas):\n",
    "    for i in range(1, filas + 1):\n",
    "        print(\"*\" * i)\n",
    "    \n"
   ]
  },
  {
   "cell_type": "code",
   "execution_count": 24,
   "id": "edfe2f1b",
   "metadata": {},
   "outputs": [],
   "source": [
    "def capicua(numero):\n",
    "    str_numero = str(numero)\n",
    "    return str_numero == str_numero[::-1]\n",
    "    "
   ]
  },
  {
   "cell_type": "code",
   "execution_count": 28,
   "id": "63f1ff3c",
   "metadata": {},
   "outputs": [],
   "source": [
    "def cuenta_palabras(frase, palabra):\n",
    "    contador = 0\n",
    "    palabras_en_frase = frase.split()\n",
    "    for p in palabras_en_frase:\n",
    "        if p == palabra:\n",
    "            contador = contador + 1\n",
    "    return contador   "
   ]
  },
  {
   "cell_type": "code",
   "execution_count": 30,
   "id": "8c1c9260",
   "metadata": {},
   "outputs": [],
   "source": [
    "def tabla_de_multiplicar():\n",
    "    for i in range(1, 11):\n",
    "        resultado = 10 * i\n",
    "        print(f\"10 x {i} = {resultado}\")\n"
   ]
  },
  {
   "cell_type": "code",
   "execution_count": 34,
   "id": "09139633",
   "metadata": {},
   "outputs": [
    {
     "ename": "SyntaxError",
     "evalue": "expected ':' (3539840823.py, line 5)",
     "output_type": "error",
     "traceback": [
      "\u001b[1;36m  Cell \u001b[1;32mIn[34], line 5\u001b[1;36m\u001b[0m\n\u001b[1;33m    if v == vocales\u001b[0m\n\u001b[1;37m                   ^\u001b[0m\n\u001b[1;31mSyntaxError\u001b[0m\u001b[1;31m:\u001b[0m expected ':'\n"
     ]
    }
   ],
   "source": []
  },
  {
   "cell_type": "code",
   "execution_count": 36,
   "id": "8db58a38",
   "metadata": {},
   "outputs": [],
   "source": [
    "def longitud_palabras(frase, numero):\n",
    "    palabras_en_frase = frase.split()\n",
    "    contador=0\n",
    "    for p in frase:\n",
    "        p == palabras_en_frase\n",
    "        if len(p) = numero:\n",
    "            contador = contador +1\n",
    "    return contador\n",
    "        "
   ]
  },
  {
   "cell_type": "code",
   "execution_count": null,
   "id": "7505ce5f",
   "metadata": {},
   "outputs": [],
   "source": []
  }
 ],
 "metadata": {
  "kernelspec": {
   "display_name": "Python 3 (ipykernel)",
   "language": "python",
   "name": "python3"
  },
  "language_info": {
   "codemirror_mode": {
    "name": "ipython",
    "version": 3
   },
   "file_extension": ".py",
   "mimetype": "text/x-python",
   "name": "python",
   "nbconvert_exporter": "python",
   "pygments_lexer": "ipython3",
   "version": "3.11.5"
  }
 },
 "nbformat": 4,
 "nbformat_minor": 5
}
