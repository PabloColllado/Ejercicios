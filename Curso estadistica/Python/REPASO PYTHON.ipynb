{
 "cells": [
  {
   "cell_type": "code",
   "execution_count": 1,
   "id": "41ee1b99",
   "metadata": {},
   "outputs": [
    {
     "name": "stdout",
     "output_type": "stream",
     "text": [
      "Introduce tu número:5\n",
      "Positivo\n"
     ]
    }
   ],
   "source": [
    "numero_entero = float(input(\"Introduce tu número:\"))\n",
    "if numero_entero > 0:\n",
    "    print(\"Positivo\")\n",
    "elif numero_entero < 0:\n",
    "    print(\"Negativo\")\n",
    "else:\n",
    "    print(\"Nulo\")"
   ]
  },
  {
   "cell_type": "code",
   "execution_count": 2,
   "id": "c73424ac",
   "metadata": {},
   "outputs": [
    {
     "name": "stdout",
     "output_type": "stream",
     "text": [
      "Introduce tu número:5\n",
      "Está en el rango\n"
     ]
    }
   ],
   "source": [
    "numero_entero = float(input(\"Introduce tu número:\"))\n",
    "if numero_entero >= -5 and numero_entero <= 5:\n",
    "    print(\"Está en el rango\")\n",
    "elif numero_entero < -5:\n",
    "    print(\"Está en un rango menor\")\n",
    "else:\n",
    "    print(\"Está en un rango mayor\")\n",
    "    "
   ]
  },
  {
   "cell_type": "code",
   "execution_count": 3,
   "id": "b7ecf428",
   "metadata": {},
   "outputs": [
    {
     "name": "stdout",
     "output_type": "stream",
     "text": [
      "Introduce tu coordenadaX5\n",
      "Introduce tu coordenadaY5\n",
      "Está en el segundo cuadrante\n"
     ]
    }
   ],
   "source": [
    "coordenadaX= float(input(\"Introduce tu coordenadaX\"))\n",
    "coordenadaY=float(input(\"Introduce tu coordenadaY\"))\n",
    "if coordenadaX == 0:\n",
    "    print(\"Está en el eje vertical\")\n",
    "elif coordenadaY == 0:\n",
    "    print(\"Está en el eje horizontal\")\n",
    "elif coordenadaX == 0 and coordenadaY == 0:\n",
    "    print(\"Está en el origen del eje\")\n",
    "elif coordenadaX < 0 and coordenadaY < 0:\n",
    "    print(\"Está en el cuarto cuadrante\")\n",
    "elif coordenadaX > 0 and coordenadaY < 0:\n",
    "    print(\"Está en el tercer cuadrante\")\n",
    "elif coordenadaX > 0 and coordenadaY > 0:\n",
    "    print(\"Está en el segundo cuadrante\")\n",
    "elif coordenadaX < 0 and coordenadaY > 0:\n",
    "    print(\"Está en el primer cuadrante\")"
   ]
  },
  {
   "cell_type": "code",
   "execution_count": 4,
   "id": "984d23ae",
   "metadata": {},
   "outputs": [
    {
     "name": "stdout",
     "output_type": "stream",
     "text": [
      "Introduce tu numeroA: 6\n",
      "Introduce tu numeroB: 6\n",
      "División entera: 1.0\n",
      "Resto: 0.0\n"
     ]
    }
   ],
   "source": [
    "numeroA = float(input(\"Introduce tu numeroA: \"))\n",
    "numeroB = float(input(\"Introduce tu numeroB: \"))\n",
    "division_entera = numeroA // numeroB\n",
    "print(\"División entera:\", division_entera)\n",
    "resto = numeroA % numeroB\n",
    "print(\"Resto:\", resto)\n"
   ]
  },
  {
   "cell_type": "code",
   "execution_count": 8,
   "id": "fd5dcb15",
   "metadata": {},
   "outputs": [
    {
     "name": "stdout",
     "output_type": "stream",
     "text": [
      "Introduce tu numero: 149670756\n",
      "Cuadrado perfecto\n"
     ]
    }
   ],
   "source": [
    "import math\n",
    "numero = float(input(\"Introduce tu numero: \"))\n",
    "cuadrado = math.sqrt(numero)\n",
    "if cuadrado==int(cuadrado):\n",
    "    print(\"Cuadrado perfecto\")\n",
    "else:\n",
    "    print(\"No es cuadrado perfecto\")\n",
    "    "
   ]
  },
  {
   "cell_type": "code",
   "execution_count": 13,
   "id": "7cddce8f",
   "metadata": {},
   "outputs": [
    {
     "name": "stdout",
     "output_type": "stream",
     "text": [
      "Introduce un año: 2030\n",
      "No es un año bisiesto\n"
     ]
    }
   ],
   "source": [
    "año = int(input(\"Introduce un año: \"))\n",
    "if año % 4 == 0 and (año % 100 != 0 or año % 400 == 0):\n",
    "    print(\"Es un año bisiesto\")\n",
    "else:\n",
    "    print(\"No es un año bisiesto\")\n",
    "    \n"
   ]
  },
  {
   "cell_type": "code",
   "execution_count": 18,
   "id": "2311efec",
   "metadata": {},
   "outputs": [
    {
     "name": "stdout",
     "output_type": "stream",
     "text": [
      "Ingresa una letra (de la A a la H): B\n",
      "Ingresa un número (de 1 a 8): 4\n",
      "La casilla es negra.\n"
     ]
    }
   ],
   "source": [
    "letra = input(\"Ingresa una letra (de la A a la H): \")\n",
    "numero = int(input(\"Ingresa un número (de 1 a 8): \"))\n",
    "if (letra in \"ACEG\" and numero % 2 != 0) or (letra in \"BDFH\" and numero % 2 == 0):\n",
    "    print(\"La casilla es negra.\")\n",
    "else:\n",
    "    print(\"La casilla es blanca.\")\n",
    "\n",
    "    "
   ]
  },
  {
   "cell_type": "code",
   "execution_count": null,
   "id": "d7a983d9",
   "metadata": {},
   "outputs": [],
   "source": []
  }
 ],
 "metadata": {
  "kernelspec": {
   "display_name": "Python 3 (ipykernel)",
   "language": "python",
   "name": "python3"
  },
  "language_info": {
   "codemirror_mode": {
    "name": "ipython",
    "version": 3
   },
   "file_extension": ".py",
   "mimetype": "text/x-python",
   "name": "python",
   "nbconvert_exporter": "python",
   "pygments_lexer": "ipython3",
   "version": "3.11.5"
  }
 },
 "nbformat": 4,
 "nbformat_minor": 5
}
